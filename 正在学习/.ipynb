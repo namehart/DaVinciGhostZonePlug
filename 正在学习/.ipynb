{
 "cells": [
  {
   "cell_type": "code",
   "execution_count": null,
   "metadata": {},
   "outputs": [
    {
     "name": "stderr",
     "output_type": "stream",
     "text": [
      "C:\\Users\\Administrator.PC-202104131141.000\\AppData\\Local\\Temp\\ipykernel_15400\\3186358459.py:12: MovedIn20Warning: The ``declarative_base()`` function is now available as sqlalchemy.orm.declarative_base(). (deprecated since: 2.0) (Background on SQLAlchemy 2.0 at: https://sqlalche.me/e/b8d9)\n",
      "  Base = declarative_base()\n"
     ]
    }
   ],
   "source": [
    "import sqlalchemy\n",
    "from sqlalchemy.orm import sessionmaker\n",
    "from sqlalchemy.ext.declarative import declarative_base\n",
    "from sqlalchemy import Column, String, Text, Boolean, Integer\n",
    "\n",
    "import sqlite3\n",
    "\n",
    "# 连接到数据库（如果数据库不存在会自动创建）\n",
    "conn = sqlite3.connect(\"mater.db\")\n",
    "\n",
    "suc = sqlalchemy.create_engine(\"sqlite:///mater.db\")\n",
    "Base = declarative_base()\n",
    "\n",
    "Session = sessionmaker(bind=suc)\n",
    "# 创建会话实例\n",
    "session = Session()\n",
    "\n",
    "\n",
    "class Mater(Base):\n",
    "\n",
    "    __tablename__ = \"mater41\"\n",
    "\n",
    "    id = Column(Integer, primary_key=True)\n",
    "    name = Column(String)\n",
    "    where = Column(Text)\n",
    "    is_local = Column(Boolean)\n",
    "\n",
    "\n",
    "Base.metadata.create_all(suc)\n",
    "\n",
    "nezha = Mater(name=\"zha\", where=r\"..\\MaterLib\\testshili\\吒儿.flac\", is_local=False)\n",
    "session.close()"
   ]
  }
 ],
 "metadata": {
  "kernelspec": {
   "display_name": "Python 3",
   "language": "python",
   "name": "python3"
  },
  "language_info": {
   "codemirror_mode": {
    "name": "ipython",
    "version": 3
   },
   "file_extension": ".py",
   "mimetype": "text/x-python",
   "name": "python",
   "nbconvert_exporter": "python",
   "pygments_lexer": "ipython3",
   "version": "3.11.2"
  }
 },
 "nbformat": 4,
 "nbformat_minor": 2
}
